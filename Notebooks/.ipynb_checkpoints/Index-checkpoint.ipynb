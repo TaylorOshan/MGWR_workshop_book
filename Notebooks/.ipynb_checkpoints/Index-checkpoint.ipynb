{
 "cells": [
  {
   "cell_type": "markdown",
   "metadata": {},
   "source": [
    "# <center> Local Modeling & Multiscale Geographically Weighted Regression<br><br>UCGIS Workshop - 2021 <center>"
   ]
  },
  {
   "cell_type": "markdown",
   "metadata": {},
   "source": [
    "<center> Taylor Oshan </center>\n",
    "<center> Assistant Professor of GISc. </center>\n",
    "<center> Center for Geospatial Information Science </center>\n",
    "<center> School of Geographical Sciences </center>\n",
    "<center> University of Maryland, College Park </center><br>\n",
    "\n",
    "\n",
    "<center> Presented on 6/11/2021 - UCGIS Workshop Series </center><br>\n",
    "\n",
    "**Contact information**\n",
    "\n",
    "Email: [toshan@umd.edu](mailto:toshan@umd.edu)\n",
    "\n",
    "Twitter handle: [@TaylorOshan](https://twitter.com/TaylorOshan)\n",
    "\n",
    "**Aside from a few updates, the core content for this workshop was originally (and fantastically) prepared by [Mehak Sachdeva](mailto:msachde1@asu.edu), who is currently a [PhD candidate at ASU](https://sgsup.asu.edu/mehak-sachdeva), for the [UCGIS 2020 workshop](https://mehak-sachdeva.github.io/MGWR_workshop_book/) series. All errors are of course my own!**"
   ]
  },
  {
   "cell_type": "markdown",
   "metadata": {},
   "source": [
    "### Goal\n",
    "\n",
    "***\n",
    "\n",
    "<p align=\"justify\">The overall goal of the workshop is to introduce participants to multiscale spatial modeling and engage in a discussion of the scale of geographic processes and their measurement. Multiscale Geographically Weighted Regression (MGWR) is a cutting-edge modeling technique which integrates both nomothetic and ideographic approaches in geography and allows a more nuanced interpretation of place and space. Participants will be introduced to the field of local modeling and the opportunities it presents to measure the scale at which geographic processes operate. Participants will also complete hands-on training in the use of MGWR in research, and will be encouraged to use the provided code for their own future research.</p>\n"
   ]
  },
  {
   "cell_type": "markdown",
   "metadata": {},
   "source": [
    "### Table of Contents\n",
    "\n",
    "***\n",
    "1. **[Spatial Patterns and Processes](http://tayloroshan.github.io/MGWR_workshop_book/Html/Patterns-processes)**<br><br>\n",
    "\n",
    "2. **[Regression Models - The why and the how](http://tayloroshan.github.io/MGWR_workshop_book/Html/Regression-models)**<br><br>\n",
    "\n",
    "3. **[Methodological Review - GWR and MGWR](http://tayloroshan.github.io/MGWR_workshop_book/Html/Methodology)**<br><br>\n",
    "\n",
    "4. **[Hands-on Example with MGWR](http://tayloroshan.github.io/MGWR_workshop_book/Html/Example)**<br><br>\n",
    "\n",
    "5. **[Interpretation and Understanding Outputs](http://tayloroshan.github.io/MGWR_workshop_book/Html/Interpretation)**<br><br>\n",
    "\n",
    "6. **[Mapping Parameter Coefficients](http://tayloroshan.github.io/MGWR_workshop_book/Html/Mapping)**<br><br>\n"
   ]
  },
  {
   "cell_type": "markdown",
   "metadata": {},
   "source": [
    "### Resources\n",
    "\n",
    "***\n",
    "**Workshop book (this page): https://TaylorOshan.github.io/MGWR_workshop_book/**<br><br>\n",
    "**Workshop book source: https://github.com/TaylorOshan/MGWR_workshop_book/**<br><br>\n",
    "**Download the software and manual here: https://sgsup.asu.edu/sparc/mgwr** <br><br>\n",
    "**Datasets used in the workshop: (1) [Seattle House Prices](https://www.dropbox.com/s/13uvgo4w3mvfxyk/example_dataset.csv?dl=1)** <br><br>\n",
    "**Open-source Python code API: https://github.com/pysal/mgwr** <br><br>\n"
   ]
  },
  {
   "cell_type": "markdown",
   "metadata": {},
   "source": [
    "### Running Acknowledgements\n",
    "\n",
    "#### 2021\n",
    "\n",
    "- Mehak Sachdeva for producing the original (open source!) workshop content and being kind enough to allow me to use it and build upon it.\n",
    "\n",
    "\n",
    "#### 2020\n",
    "\n",
    "***\n",
    "\n",
    "- Professor Stewart Fotheringham and Professor Peter Kedron for their immense help with building the workshop material <br><br>\n",
    "\n",
    "- MGWR Development Team: Ziqi Li, Taylor Oshan, Stewart Fotheringham, Wei Kang, Levi Wolf, Hanchen Yu, Mehak Sachdeva, and Sarah Bardin (Spatial Analysis Research Center (SPARC), Arizona State University, Tempe, USA)"
   ]
  },
  {
   "cell_type": "markdown",
   "metadata": {},
   "source": [
    "[Next](http://tayloroshan.github.io/MGWR_workshop_book/Html/Patterns-processes)"
   ]
  }
 ],
 "metadata": {
  "kernelspec": {
   "display_name": "Python 3",
   "language": "python",
   "name": "python3"
  },
  "language_info": {
   "codemirror_mode": {
    "name": "ipython",
    "version": 3
   },
   "file_extension": ".py",
   "mimetype": "text/x-python",
   "name": "python",
   "nbconvert_exporter": "python",
   "pygments_lexer": "ipython3",
   "version": "3.8.5"
  }
 },
 "nbformat": 4,
 "nbformat_minor": 2
}
