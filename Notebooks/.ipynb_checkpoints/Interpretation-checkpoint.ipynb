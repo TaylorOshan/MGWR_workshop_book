{
 "cells": [
  {
   "cell_type": "markdown",
   "metadata": {},
   "source": [
    "# <center> Interpretation and Understanding Outputs </center>\n",
    "\n",
    "**Notebook Outline:**  \n",
    "  \n",
    "**An example of hedonic house price modeling using MGWR**\n",
    "- [Global Model Results](#Global-Model-Results)\n",
    "- [MGWR Results - Model Fit](#MGWR-Results---Model-Fit)\n",
    "- [MGWR Results - Bandwidth Parameters](#MGWR-Results---Bandwidth-Parameters) \n",
    "- [MGWR Results - Parameter Estimates](#MGWR-Results---Parameter-Estimates)<br><br>\n",
    "\n",
    "[Back to the main page](https://tayloroshan.github.io/MGWR_workshop_book/)\n"
   ]
  },
  {
   "cell_type": "markdown",
   "metadata": {},
   "source": [
    "# Global Model Results\n",
    "\n",
    "***\n",
    "\n",
    "### Global Regression Model Fit and Parameter Estimates\n",
    "\n",
    "Two files are saved on your computer once you run the MGWR model - **MGWR_session_summary.txt** and **MGWR_session_results.csv**"
   ]
  },
  {
   "cell_type": "markdown",
   "metadata": {},
   "source": [
    "<img src=\"../images/global_results.png\" width=\"600\">"
   ]
  },
  {
   "cell_type": "markdown",
   "metadata": {},
   "source": [
    "# MGWR Results - Model Fit"
   ]
  },
  {
   "cell_type": "markdown",
   "metadata": {},
   "source": [
    "<img src=\"../images/mgwr_fit.png\" width=\"600\">"
   ]
  },
  {
   "cell_type": "markdown",
   "metadata": {},
   "source": [
    "# MGWR Results - Bandwidth Parameters\n",
    "\n",
    "### Total number of census tracts = 357"
   ]
  },
  {
   "cell_type": "markdown",
   "metadata": {},
   "source": [
    "<img src=\"../images/bandwidth_params.png\" width=\"600\">"
   ]
  },
  {
   "cell_type": "markdown",
   "metadata": {},
   "source": [
    "### Visualizing bandwidths to understand scale"
   ]
  },
  {
   "cell_type": "markdown",
   "metadata": {},
   "source": [
    "<img src=\"../images/Bandwidths.png\" width=\"800\">"
   ]
  },
  {
   "cell_type": "markdown",
   "metadata": {},
   "source": [
    "# MGWR Results - Parameter Estimates"
   ]
  },
  {
   "cell_type": "markdown",
   "metadata": {},
   "source": [
    "<img src=\"../images/param_est.png\" width=\"600\">"
   ]
  },
  {
   "cell_type": "markdown",
   "metadata": {},
   "source": [
    "### The new columns added to the results csv:<br>\n",
    "1. **ols_residual** - Residuals from OLS model for every location point\n",
    "2. **mgwr_yhat** - yhat from MGWR for each location point\n",
    "3. **mgwr_residual** - Residuals from MGWR for every location point\n",
    "4. **localR2** - Explained variation at each location point\n",
    "5. **beta_** - Columns starting with *beta* are parameter estimates for the covariates\n",
    "6. **se_** - Columns starting with *se* are standard errors for estimates for the covariates\n",
    "7. **t_** - Columns starting with *t* are t values for estimates for the covariates\n",
    "8. **p_** - Columns starting with *p* are p values for estimates for the covariates\n",
    "9. **sumW_** - Sum of weights for the covariates at each location"
   ]
  },
  {
   "cell_type": "markdown",
   "metadata": {},
   "source": [
    "The **beta_** columns need to be filtered to have only the significant parameter estimates. This filtering is done using the **t_** value columns. The thresholds for t values are defined by the **adjusted t values** as shown below."
   ]
  },
  {
   "cell_type": "markdown",
   "metadata": {},
   "source": [
    "<img src=\"../images/t_crit.png\" width=\"700\">"
   ]
  },
  {
   "cell_type": "markdown",
   "metadata": {},
   "source": [
    "[Next](http://tayloroshan.github.io/MGWR_workshop_book/Html/Mapping)\n",
    "\n",
    "[Previous](http://tayloroshan.github.io/MGWR_workshop_book/Html/Example)\n",
    "\n",
    "[Back to the main page](https://tayloroshan.github.io/MGWR_workshop_book/)"
   ]
  },
  {
   "cell_type": "markdown",
   "metadata": {},
   "source": [
    "***"
   ]
  }
 ],
 "metadata": {
  "kernelspec": {
   "display_name": "Python 3",
   "language": "python",
   "name": "python3"
  },
  "language_info": {
   "codemirror_mode": {
    "name": "ipython",
    "version": 3
   },
   "file_extension": ".py",
   "mimetype": "text/x-python",
   "name": "python",
   "nbconvert_exporter": "python",
   "pygments_lexer": "ipython3",
   "version": "3.8.5"
  }
 },
 "nbformat": 4,
 "nbformat_minor": 2
}
