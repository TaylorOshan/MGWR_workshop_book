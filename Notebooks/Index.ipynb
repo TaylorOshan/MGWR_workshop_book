{
 "cells": [
  {
   "cell_type": "markdown",
   "metadata": {},
   "source": [
    "# <center> Local Modeling & Multiscale Geographically Weighted Regression<br><br>UCGIS Workshop - 2021 <center>"
   ]
  },
  {
   "cell_type": "markdown",
   "metadata": {},
   "source": [
    "<center> Taylor Oshan </center>\n",
    "<center> Assistant Professor of GISc. </center>\n",
    "<center> Center for Geospatial Information Science </center>\n",
    "<center> School of Geographical Sciences </center>\n",
    "<center> University of Maryland, College Park </center><br>\n",
    "\n",
    "\n",
    "<center> Presented on 6/11/2021 - UCGIS Workshop Series </center><br>\n",
    "\n",
    "**Contact information**\n",
    "\n",
    "Email: [toshan@umd.edu](mailto:toshan@umd.edu)\n",
    "\n",
    "Twitter handle: [@TaylorOshan](https://twitter.com/TaylorOshan)\n",
    "\n",
    "**The content for this workshop was originally developed by [Mehak Sachdeva]() for the UCGIS 2020 workshop series**"
   ]
  },
  {
   "cell_type": "markdown",
   "metadata": {},
   "source": [
    "### Goal\n",
    "\n",
    "***\n",
    "\n",
    "<p align=\"justify\">The overall goal of the workshop is to introduce participants to multiscale spatial modeling and engage in a discussion of the scale of geographic processes and their measurement. Multiscale Geographically Weighted Regression (MGWR) is a cutting-edge modeling technique which integrates both nomothetic and ideographic approaches in geography and allows a more nuanced interpretation of place and space. Participants will be introduced to the field of local modeling and the opportunities it presents to measure the scale at which geographic processes operate. Participants will also complete hands-on training in the use of MGWR in research, and will be encouraged to use the provided code for their own future research.</p>\n"
   ]
  },
  {
   "cell_type": "markdown",
   "metadata": {},
   "source": [
    "### Table of Contents\n",
    "\n",
    "***\n",
    "1. **[Spatial Patterns and Processes](http://mehak-sachdeva.github.io/MGWR_workshop_book/Html/Patterns-processes)**<br><br>\n",
    "\n",
    "2. **[Regression Models - The why and the how](http://mehak-sachdeva.github.io/MGWR_workshop_book/Html/Regression-models)**<br><br>\n",
    "\n",
    "3. **[Methodological Review - GWR and MGWR](http://mehak-sachdeva.github.io/MGWR_workshop_book/Html/Methodology)**<br><br>\n",
    "\n",
    "4. **[Hands-on Example with MGWR](http://mehak-sachdeva.github.io/MGWR_workshop_book/Html/Example)**<br><br>\n",
    "\n",
    "5. **[Interpretation and Understanding Outputs](http://mehak-sachdeva.github.io/MGWR_workshop_book/Html/Interpretation)**<br><br>\n",
    "\n",
    "6. **[Mapping Parameter Coefficients](http://mehak-sachdeva.github.io/MGWR_workshop_book/Html/Mapping)**<br><br>\n"
   ]
  },
  {
   "cell_type": "markdown",
   "metadata": {},
   "source": [
    "### Resources\n",
    "\n",
    "***\n",
    "\n",
    "**Github book resource: https://mehak-sachdeva.github.io/MGWR_workshop_book/**<br><br>\n",
    "**Download the software here: https://sgsup.asu.edu/sparc/mgwr** <br><br>\n",
    "**Data used in the software: [Direct download link](http://msachdeva.cartodb.com/api/v2/sql?filename=example_dataset&format=csv&q=SELECT+*+FROM+census_tracts_final+as+example_data)** <br><br>\n",
    "**Python open-source package: https://github.com/pysal/mgwr** <br><br>\n"
   ]
  },
  {
   "cell_type": "markdown",
   "metadata": {},
   "source": [
    "### Acknowledgements\n",
    "\n",
    "***\n",
    "\n",
    "- Professor Stewart Fotheringham and Professor Peter Kedron for their immense help with building the workshop material <br><br>\n",
    "\n",
    "- MGWR Development Team: Ziqi Li, Taylor Oshan, Stewart Fotheringham, Wei Kang, Levi Wolf, Hanchen Yu, Mehak Sachdeva, and Sarah Bardin (Spatial Analysis Research Center (SPARC), Arizona State University, Tempe, USA)"
   ]
  },
  {
   "cell_type": "markdown",
   "metadata": {},
   "source": [
    "[Next](http://mehak-sachdeva.github.io/MGWR_workshop_book/Html/Patterns-processes)"
   ]
  }
 ],
 "metadata": {
  "kernelspec": {
   "display_name": "Python 3",
   "language": "python",
   "name": "python3"
  },
  "language_info": {
   "codemirror_mode": {
    "name": "ipython",
    "version": 3
   },
   "file_extension": ".py",
   "mimetype": "text/x-python",
   "name": "python",
   "nbconvert_exporter": "python",
   "pygments_lexer": "ipython3",
   "version": "3.8.5"
  }
 },
 "nbformat": 4,
 "nbformat_minor": 2
}
