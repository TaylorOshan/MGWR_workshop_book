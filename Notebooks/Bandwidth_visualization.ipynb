{
 "cells": [
  {
   "cell_type": "code",
   "execution_count": null,
   "metadata": {},
   "outputs": [],
   "source": [
    "#@title Python imports\n",
    "# A bit of imports\n",
    "import numpy as np\n",
    "import pandas as pd\n",
    "import warnings\n",
    "warnings.filterwarnings('ignore')\n",
    "\n",
    "import numpy as np\n",
    "import pandas as pd\n",
    "import ipywidgets as widgets\n",
    "from ipywidgets import interact, interact_manual\n",
    "from matplotlib import pyplot as plt\n",
    "import seaborn as sns\n",
    "import warnings\n",
    "warnings.filterwarnings(\"ignore\")\n",
    "from scipy import stats\n",
    "import geopandas as gpd\n",
    "from shapely.geometry import Point, Polygon\n",
    "%matplotlib inline\n",
    "sns.set(color_codes=True)\n",
    "from sklearn import linear_model\n",
    "from matplotlib.colors import LinearSegmentedColormap\n",
    "from matplotlib_scalebar.scalebar import ScaleBar\n",
    "import statsmodels.api as statm\n",
    "\n",
    "import libpysal as ps\n",
    "from mgwr.gwr import GWR\n",
    "from mgwr.gwr import MGWR\n",
    "from mgwr.sel_bw import Sel_BW\n",
    "from spglm.family import Gaussian, Binomial, Poisson\n",
    "import multiprocessing as mp\n",
    "pool = mp.Pool()\n",
    "import io"
   ]
  },
  {
   "cell_type": "code",
   "execution_count": 23,
   "metadata": {},
   "outputs": [],
   "source": [
    "df = pd.read_csv(\"example_dataset.csv\")"
   ]
  },
  {
   "cell_type": "code",
   "execution_count": 24,
   "metadata": {},
   "outputs": [
    {
     "data": {
      "text/plain": [
       "Index(['the_geom', 'longitude', 'the_geom_webmercator', 'avg_tech', 'latitude',\n",
       "       'houses', 'avg_unemp', 'cartodb_id', 'avg_index', 'avg_price',\n",
       "       'avg_basement', 'avg_sqft', 'avg_water_dist', 'avg_age', 'ind'],\n",
       "      dtype='object')"
      ]
     },
     "execution_count": 24,
     "metadata": {},
     "output_type": "execute_result"
    }
   ],
   "source": [
    "df.columns"
   ]
  },
  {
   "cell_type": "code",
   "execution_count": 26,
   "metadata": {},
   "outputs": [],
   "source": [
    "df['ln_price']=np.log(df['avg_price'])"
   ]
  },
  {
   "cell_type": "code",
   "execution_count": 29,
   "metadata": {},
   "outputs": [
    {
     "data": {
      "text/plain": [
       "0      12.611636\n",
       "1      12.312879\n",
       "2      12.563657\n",
       "3      12.715962\n",
       "4      12.619820\n",
       "         ...    \n",
       "354    12.936781\n",
       "355    12.733797\n",
       "356    12.839368\n",
       "357    13.007454\n",
       "358    13.426880\n",
       "Name: ln_price, Length: 359, dtype: float64"
      ]
     },
     "execution_count": 29,
     "metadata": {},
     "output_type": "execute_result"
    }
   ],
   "source": [
    "df['ln_price']"
   ]
  },
  {
   "cell_type": "code",
   "execution_count": 40,
   "metadata": {},
   "outputs": [],
   "source": [
    "df=df.dropna()"
   ]
  },
  {
   "cell_type": "code",
   "execution_count": 42,
   "metadata": {},
   "outputs": [
    {
     "data": {
      "text/html": [
       "<table class=\"simpletable\">\n",
       "<caption>OLS Regression Results</caption>\n",
       "<tr>\n",
       "  <th>Dep. Variable:</th>        <td>ln_price</td>     <th>  R-squared:         </th> <td>   0.898</td> \n",
       "</tr>\n",
       "<tr>\n",
       "  <th>Model:</th>                   <td>OLS</td>       <th>  Adj. R-squared:    </th> <td>   0.896</td> \n",
       "</tr>\n",
       "<tr>\n",
       "  <th>Method:</th>             <td>Least Squares</td>  <th>  F-statistic:       </th> <td>   438.4</td> \n",
       "</tr>\n",
       "<tr>\n",
       "  <th>Date:</th>             <td>Wed, 20 May 2020</td> <th>  Prob (F-statistic):</th> <td>1.15e-168</td>\n",
       "</tr>\n",
       "<tr>\n",
       "  <th>Time:</th>                 <td>12:47:31</td>     <th>  Log-Likelihood:    </th> <td> -98.782</td> \n",
       "</tr>\n",
       "<tr>\n",
       "  <th>No. Observations:</th>      <td>   357</td>      <th>  AIC:               </th> <td>   213.6</td> \n",
       "</tr>\n",
       "<tr>\n",
       "  <th>Df Residuals:</th>          <td>   349</td>      <th>  BIC:               </th> <td>   244.6</td> \n",
       "</tr>\n",
       "<tr>\n",
       "  <th>Df Model:</th>              <td>     7</td>      <th>                     </th>     <td> </td>    \n",
       "</tr>\n",
       "<tr>\n",
       "  <th>Covariance Type:</th>      <td>nonrobust</td>    <th>                     </th>     <td> </td>    \n",
       "</tr>\n",
       "</table>\n",
       "<table class=\"simpletable\">\n",
       "<tr>\n",
       "         <td></td>           <th>coef</th>     <th>std err</th>      <th>t</th>      <th>P>|t|</th>  <th>[0.025</th>    <th>0.975]</th>  \n",
       "</tr>\n",
       "<tr>\n",
       "  <th>const</th>          <td> 6.721e-15</td> <td>    0.017</td> <td> 3.93e-13</td> <td> 1.000</td> <td>   -0.034</td> <td>    0.034</td>\n",
       "</tr>\n",
       "<tr>\n",
       "  <th>avg_tech</th>       <td>    0.2186</td> <td>    0.029</td> <td>    7.433</td> <td> 0.000</td> <td>    0.161</td> <td>    0.276</td>\n",
       "</tr>\n",
       "<tr>\n",
       "  <th>avg_unemp</th>      <td>   -0.2990</td> <td>    0.028</td> <td>  -10.802</td> <td> 0.000</td> <td>   -0.353</td> <td>   -0.245</td>\n",
       "</tr>\n",
       "<tr>\n",
       "  <th>avg_index</th>      <td>   -0.1231</td> <td>    0.030</td> <td>   -4.115</td> <td> 0.000</td> <td>   -0.182</td> <td>   -0.064</td>\n",
       "</tr>\n",
       "<tr>\n",
       "  <th>avg_sqft</th>       <td>    0.5865</td> <td>    0.023</td> <td>   25.043</td> <td> 0.000</td> <td>    0.540</td> <td>    0.633</td>\n",
       "</tr>\n",
       "<tr>\n",
       "  <th>avg_basement</th>   <td>    0.0984</td> <td>    0.023</td> <td>    4.212</td> <td> 0.000</td> <td>    0.052</td> <td>    0.144</td>\n",
       "</tr>\n",
       "<tr>\n",
       "  <th>avg_water_dist</th> <td>   -0.2106</td> <td>    0.034</td> <td>   -6.280</td> <td> 0.000</td> <td>   -0.277</td> <td>   -0.145</td>\n",
       "</tr>\n",
       "<tr>\n",
       "  <th>avg_age</th>        <td>    0.1563</td> <td>    0.025</td> <td>    6.371</td> <td> 0.000</td> <td>    0.108</td> <td>    0.205</td>\n",
       "</tr>\n",
       "</table>\n",
       "<table class=\"simpletable\">\n",
       "<tr>\n",
       "  <th>Omnibus:</th>       <td>17.936</td> <th>  Durbin-Watson:     </th> <td>   1.793</td>\n",
       "</tr>\n",
       "<tr>\n",
       "  <th>Prob(Omnibus):</th> <td> 0.000</td> <th>  Jarque-Bera (JB):  </th> <td>  44.569</td>\n",
       "</tr>\n",
       "<tr>\n",
       "  <th>Skew:</th>          <td> 0.139</td> <th>  Prob(JB):          </th> <td>2.10e-10</td>\n",
       "</tr>\n",
       "<tr>\n",
       "  <th>Kurtosis:</th>      <td> 4.708</td> <th>  Cond. No.          </th> <td>    4.47</td>\n",
       "</tr>\n",
       "</table><br/><br/>Warnings:<br/>[1] Standard Errors assume that the covariance matrix of the errors is correctly specified."
      ],
      "text/plain": [
       "<class 'statsmodels.iolib.summary.Summary'>\n",
       "\"\"\"\n",
       "                            OLS Regression Results                            \n",
       "==============================================================================\n",
       "Dep. Variable:               ln_price   R-squared:                       0.898\n",
       "Model:                            OLS   Adj. R-squared:                  0.896\n",
       "Method:                 Least Squares   F-statistic:                     438.4\n",
       "Date:                Wed, 20 May 2020   Prob (F-statistic):          1.15e-168\n",
       "Time:                        12:47:31   Log-Likelihood:                -98.782\n",
       "No. Observations:                 357   AIC:                             213.6\n",
       "Df Residuals:                     349   BIC:                             244.6\n",
       "Df Model:                           7                                         \n",
       "Covariance Type:            nonrobust                                         \n",
       "==================================================================================\n",
       "                     coef    std err          t      P>|t|      [0.025      0.975]\n",
       "----------------------------------------------------------------------------------\n",
       "const           6.721e-15      0.017   3.93e-13      1.000      -0.034       0.034\n",
       "avg_tech           0.2186      0.029      7.433      0.000       0.161       0.276\n",
       "avg_unemp         -0.2990      0.028    -10.802      0.000      -0.353      -0.245\n",
       "avg_index         -0.1231      0.030     -4.115      0.000      -0.182      -0.064\n",
       "avg_sqft           0.5865      0.023     25.043      0.000       0.540       0.633\n",
       "avg_basement       0.0984      0.023      4.212      0.000       0.052       0.144\n",
       "avg_water_dist    -0.2106      0.034     -6.280      0.000      -0.277      -0.145\n",
       "avg_age            0.1563      0.025      6.371      0.000       0.108       0.205\n",
       "==============================================================================\n",
       "Omnibus:                       17.936   Durbin-Watson:                   1.793\n",
       "Prob(Omnibus):                  0.000   Jarque-Bera (JB):               44.569\n",
       "Skew:                           0.139   Prob(JB):                     2.10e-10\n",
       "Kurtosis:                       4.708   Cond. No.                         4.47\n",
       "==============================================================================\n",
       "\n",
       "Warnings:\n",
       "[1] Standard Errors assume that the covariance matrix of the errors is correctly specified.\n",
       "\"\"\""
      ]
     },
     "execution_count": 42,
     "metadata": {},
     "output_type": "execute_result"
    }
   ],
   "source": [
    "import statsmodels.api as statm\n",
    "X=df[['avg_tech','avg_unemp','avg_index','avg_sqft','avg_basement','avg_water_dist','avg_age']].copy()\n",
    "X_std = (X-X.mean(axis=0))/X.std(axis=0)\n",
    "X_std=statm.add_constant(X_std)\n",
    "y=df['ln_price']\n",
    "y_std = (y-y.mean(axis=0))/y.std(axis=0)\n",
    "model = statm.OLS(y_std,X_std).fit()\n",
    "predictions=model.predict(X_std)\n",
    "\n",
    "model.summary()"
   ]
  },
  {
   "cell_type": "code",
   "execution_count": 43,
   "metadata": {},
   "outputs": [],
   "source": [
    "import libpysal as ps\n",
    "from mgwr.gwr import GWR\n",
    "from mgwr.gwr import MGWR\n",
    "from mgwr.sel_bw import Sel_BW\n",
    "from spglm.family import Gaussian, Binomial, Poisson\n",
    "import multiprocessing as mp\n",
    "pool = mp.Pool()"
   ]
  },
  {
   "cell_type": "code",
   "execution_count": 44,
   "metadata": {},
   "outputs": [
    {
     "data": {
      "text/plain": [
       "Index(['the_geom', 'longitude', 'the_geom_webmercator', 'avg_tech', 'latitude',\n",
       "       'houses', 'avg_unemp', 'cartodb_id', 'avg_index', 'avg_price',\n",
       "       'avg_basement', 'avg_sqft', 'avg_water_dist', 'avg_age', 'ind',\n",
       "       'ln_price'],\n",
       "      dtype='object')"
      ]
     },
     "execution_count": 44,
     "metadata": {},
     "output_type": "execute_result"
    }
   ],
   "source": [
    "df.columns"
   ]
  },
  {
   "cell_type": "code",
   "execution_count": 45,
   "metadata": {},
   "outputs": [],
   "source": [
    "coords = np.array(list(zip(df['longitude'],df['latitude'])))\n",
    "y = np.array(df['ln_price']).reshape((-1,1))\n",
    "y_std = (y-y.mean(axis=0))/y.std(axis=0)\n",
    "X=df[['avg_tech','avg_unemp','avg_index','avg_sqft','avg_basement','avg_water_dist','avg_age']].values\n",
    "X_std=(X-X.mean(axis=0))/X.std(axis=0)\n",
    "selector_gwr = Sel_BW(coords, y_std, X_std)"
   ]
  },
  {
   "cell_type": "code",
   "execution_count": 48,
   "metadata": {},
   "outputs": [],
   "source": [
    "selector_mgwr = Sel_BW(coords, y_std, X_std, multi=True)"
   ]
  },
  {
   "cell_type": "code",
   "execution_count": 49,
   "metadata": {},
   "outputs": [
    {
     "data": {
      "text/plain": [
       "array([ 43., 164., 226., 191.,  45.,  81.,  45., 354.])"
      ]
     },
     "execution_count": 49,
     "metadata": {},
     "output_type": "execute_result"
    }
   ],
   "source": [
    "selector_mgwr.search(pool=pool)"
   ]
  },
  {
   "cell_type": "code",
   "execution_count": 50,
   "metadata": {},
   "outputs": [
    {
     "data": {
      "application/vnd.jupyter.widget-view+json": {
       "model_id": "9210d3a4aecb4cfa8d04d463574119e6",
       "version_major": 2,
       "version_minor": 0
      },
      "text/plain": [
       "HBox(children=(IntProgress(value=0, description='Inference', max=1), HTML(value='')))"
      ]
     },
     "metadata": {},
     "output_type": "display_data"
    },
    {
     "name": "stdout",
     "output_type": "stream",
     "text": [
      "\n",
      "Wall time: 7.64 s\n"
     ]
    }
   ],
   "source": [
    "%%time\n",
    "model_mgwr = MGWR(coords,y_std,X_std,selector_mgwr,fixed=False,kernel='bisquare',sigma2_v1=True)\n",
    "results_mgwr=model_mgwr.fit()"
   ]
  },
  {
   "cell_type": "code",
   "execution_count": 51,
   "metadata": {},
   "outputs": [
    {
     "data": {
      "text/plain": [
       "0.9775393617728864"
      ]
     },
     "execution_count": 51,
     "metadata": {},
     "output_type": "execute_result"
    }
   ],
   "source": [
    "results_mgwr.R2"
   ]
  },
  {
   "cell_type": "code",
   "execution_count": 147,
   "metadata": {},
   "outputs": [],
   "source": [
    "df2 = pd.read_csv(\"MGWR_session_results.csv\")"
   ]
  },
  {
   "cell_type": "code",
   "execution_count": 148,
   "metadata": {},
   "outputs": [],
   "source": [
    "df2['w_43']=results_mgwr.W[0][171]\n",
    "df2['w_164']=results_mgwr.W[1][171]\n",
    "df2['w_226']=results_mgwr.W[2][171]\n",
    "df2['w_81']=results_mgwr.W[5][171]\n",
    "df2['w_354']=results_mgwr.W[7][171]"
   ]
  },
  {
   "cell_type": "code",
   "execution_count": 149,
   "metadata": {},
   "outputs": [],
   "source": [
    "df2.to_csv(\"MGWR_session_results.csv\")"
   ]
  }
 ],
 "metadata": {
  "kernelspec": {
   "display_name": "Python 3",
   "language": "python",
   "name": "python3"
  },
  "language_info": {
   "codemirror_mode": {
    "name": "ipython",
    "version": 3
   },
   "file_extension": ".py",
   "mimetype": "text/x-python",
   "name": "python",
   "nbconvert_exporter": "python",
   "pygments_lexer": "ipython3",
   "version": "3.8.5"
  }
 },
 "nbformat": 4,
 "nbformat_minor": 2
}
