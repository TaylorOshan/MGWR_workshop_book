{
 "cells": [
  {
   "cell_type": "markdown",
   "metadata": {},
   "source": [
    "# <center>Regression Models - The why and the how </center>\n",
    "\n",
    "**Notebook Outline:**  \n",
    "  \n",
    "**Regression Models**\n",
    "- [Introduction](#Introduction)\n",
    "- [Hedonic House Price Models](#Hedonic-House-Price-Models)\n",
    "- [Spatial Dependency and Heterogeneity](#Spatial-Dependency-and-Heterogeneity) <br><br>\n",
    "\n",
    "[Back to the main page](https://tayloroshan.github.io/MGWR_workshop_book/)\n"
   ]
  },
  {
   "cell_type": "markdown",
   "metadata": {},
   "source": [
    "# Introduction\n",
    "\n",
    "***\n",
    "\n",
    "Models often used to estimate relationships between processes and how they affect the spatial data we observe in the world are broadly classified under the umbrella of **regression**. \n",
    "Let's jump right into the problem we are going to work on in this workshop and understand the concepts of regression while working through it. "
   ]
  },
  {
   "cell_type": "markdown",
   "metadata": {},
   "source": [
    "# Hedonic House Price Models\n",
    "\n",
    "***\n",
    "\n",
    "Since the value of the attributes of a housing unit cannot be directly measured, a method called the hedonic modeling is applied to a housing unit price such that it could be decomposed into estimated prices for various characteristics - structural, neighborhood and locational. A typical house price model can be written as:\n"
   ]
  },
  {
   "cell_type": "markdown",
   "metadata": {},
   "source": [
    "<img src=\"../images/traditional_hedonic_model.PNG\" width=\"600\">"
   ]
  },
  {
   "cell_type": "markdown",
   "metadata": {},
   "source": [
    "The *Xs* are the **independent variables** that affect the dependent variable *y* or **observed patterns** with the magnitude and direction modeled by the *Betas* which are the measure of **processes** affecting the dependent variable. These are the coefficient estimates that define how much and in what direction these processes affect the pattern. \n",
    "\n",
    "For example, in the equation above if the beta assumes a value of + 5, this would be interpreted as the change in house price expected with an increase of living area by one unit. Consquently, if we have house price data for a city, we can easily understand how increase in living area and other such attributes of a housing unit would affect house prices in the region. \n",
    "\n",
    "**However, can you see the obvious limitation in using this equation for the data of an entire city?**"
   ]
  },
  {
   "cell_type": "markdown",
   "metadata": {},
   "source": [
    "# Spatial Dependency and Heterogeneity\n",
    "\n",
    "***\n",
    "\n",
    "In the equation above, the betas or the measures of processes affecting the patterns are averages across the entire study area.\n",
    "This would suggest that an increase in living area of a housing unit would affect the house price of the unit by the exact same amount no matter where the unit is located in the city. Is that a fair assumption?\n",
    "\n",
    "**For instance in the map below, would you expect the size of a housing unit to have the same marginal cost in Manhattan as compared to that in Staten Island?**"
   ]
  },
  {
   "cell_type": "markdown",
   "metadata": {},
   "source": [
    "<img src=\"../images/global_regression_estimate.PNG\" width=\"800\">\n",
    "\n",
    "***"
   ]
  },
  {
   "cell_type": "markdown",
   "metadata": {},
   "source": [
    " #### **Perhaps, not.**  \n",
    "\n",
    "Spatial phenomenon exhibit spatial heterogeneity that is, we expect values to be higher in some places and lower in others. In the context of house prices in a city for example, housing units with the same structural characteristics are valued differently in different areas of a city. This would then imply that the same stimulus across a city such as an increase in living area of a housing unit, would affect the housing cost differently in different areas. For example, a more accurate map of the marginal cost of living area in New York City would be as below - where adding a unit square feet of space in downtown Manhattan would increase the housing price by a lot more than it would in Staten Island. \n"
   ]
  },
  {
   "cell_type": "markdown",
   "metadata": {},
   "source": [
    "<img src=\"../images/local_regression_results.PNG\" width=\"800\">"
   ]
  },
  {
   "cell_type": "markdown",
   "metadata": {},
   "source": [
    "***\n",
    "\n",
    "\n",
    "* *Please note, the mapped estimates above are only representational.*"
   ]
  },
  {
   "cell_type": "markdown",
   "metadata": {},
   "source": [
    "[Next](http://tayloroshan.github.io/MGWR_workshop_book/Html/Methodology)\n",
    "\n",
    "[Previous](http://tayloroshan.github.io/MGWR_workshop_book/Html/Patterns-processes)\n",
    "\n",
    "[Back to the main page](https://tayloroshan.github.io/MGWR_workshop_book/)"
   ]
  },
  {
   "cell_type": "markdown",
   "metadata": {},
   "source": [
    "***"
   ]
  }
 ],
 "metadata": {
  "kernelspec": {
   "display_name": "Python 3",
   "language": "python",
   "name": "python3"
  },
  "language_info": {
   "codemirror_mode": {
    "name": "ipython",
    "version": 3
   },
   "file_extension": ".py",
   "mimetype": "text/x-python",
   "name": "python",
   "nbconvert_exporter": "python",
   "pygments_lexer": "ipython3",
   "version": "3.8.5"
  }
 },
 "nbformat": 4,
 "nbformat_minor": 2
}
